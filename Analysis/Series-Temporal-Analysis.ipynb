{
 "cells": [
  {
   "cell_type": "code",
   "execution_count": 2,
   "metadata": {},
   "outputs": [],
   "source": [
    "###### Install packages\n",
    "import pandas as pd\n",
    "import glob\n",
    "import matplotlib.pyplot as plt\n",
    "import warnings\n",
    "warnings.filterwarnings(\"ignore\")"
   ]
  },
  {
   "cell_type": "code",
   "execution_count": 19,
   "metadata": {},
   "outputs": [
    {
     "data": {
      "text/plain": [
       "(31088, 18)"
      ]
     },
     "execution_count": 19,
     "metadata": {},
     "output_type": "execute_result"
    }
   ],
   "source": [
    "data = pd.concat([pd.read_csv(dt,index_col=['Date'], parse_dates=['Date']) for dt in glob.glob(\"../data/*\")])\n",
    "data.shape"
   ]
  },
  {
   "cell_type": "code",
   "execution_count": 21,
   "metadata": {},
   "outputs": [
    {
     "data": {
      "text/html": [
       "<div>\n",
       "<style scoped>\n",
       "    .dataframe tbody tr th:only-of-type {\n",
       "        vertical-align: middle;\n",
       "    }\n",
       "\n",
       "    .dataframe tbody tr th {\n",
       "        vertical-align: top;\n",
       "    }\n",
       "\n",
       "    .dataframe thead th {\n",
       "        text-align: right;\n",
       "    }\n",
       "</style>\n",
       "<table border=\"1\" class=\"dataframe\">\n",
       "  <thead>\n",
       "    <tr style=\"text-align: right;\">\n",
       "      <th></th>\n",
       "      <th>Titre</th>\n",
       "      <th>Cours_Ouv</th>\n",
       "      <th>Cours_Clot</th>\n",
       "    </tr>\n",
       "    <tr>\n",
       "      <th>Date</th>\n",
       "      <th></th>\n",
       "      <th></th>\n",
       "      <th></th>\n",
       "    </tr>\n",
       "  </thead>\n",
       "  <tbody>\n",
       "    <tr>\n",
       "      <th>2016-08-09</th>\n",
       "      <td>FILTISAC CI</td>\n",
       "      <td>27 400</td>\n",
       "      <td>27 400</td>\n",
       "    </tr>\n",
       "    <tr>\n",
       "      <th>2016-08-09</th>\n",
       "      <td>NESTLE CI</td>\n",
       "      <td>61 000</td>\n",
       "      <td>61 000</td>\n",
       "    </tr>\n",
       "    <tr>\n",
       "      <th>2016-08-09</th>\n",
       "      <td>AIR LIQUIDE CI</td>\n",
       "      <td>19 450</td>\n",
       "      <td>19 450</td>\n",
       "    </tr>\n",
       "    <tr>\n",
       "      <th>2016-08-09</th>\n",
       "      <td>SMB CI</td>\n",
       "      <td>30 005</td>\n",
       "      <td>30 005</td>\n",
       "    </tr>\n",
       "    <tr>\n",
       "      <th>2016-08-09</th>\n",
       "      <td>SITAB CI</td>\n",
       "      <td>152 005</td>\n",
       "      <td>152 005</td>\n",
       "    </tr>\n",
       "  </tbody>\n",
       "</table>\n",
       "</div>"
      ],
      "text/plain": [
       "                     Titre Cours_Ouv Cours_Clot\n",
       "Date                                           \n",
       "2016-08-09     FILTISAC CI    27 400     27 400\n",
       "2016-08-09       NESTLE CI    61 000     61 000\n",
       "2016-08-09  AIR LIQUIDE CI    19 450     19 450\n",
       "2016-08-09          SMB CI    30 005     30 005\n",
       "2016-08-09        SITAB CI   152 005    152 005"
      ]
     },
     "execution_count": 21,
     "metadata": {},
     "output_type": "execute_result"
    }
   ],
   "source": [
    "data_analysis = data[[\"Titre\",\"Cours_Ouv\",\"Cours_Clot\"]]\n",
    "data_analysis = data_analysis[data_analysis[\"Cours_Ouv\"]!=\"NC\"]\n",
    "data_analysis = data_analysis[data_analysis[\"Cours_Clot\"]!=\"NC\"]\n",
    "data_analysis.head()"
   ]
  },
  {
   "cell_type": "code",
   "execution_count": 22,
   "metadata": {},
   "outputs": [
    {
     "data": {
      "text/html": [
       "<div>\n",
       "<style scoped>\n",
       "    .dataframe tbody tr th:only-of-type {\n",
       "        vertical-align: middle;\n",
       "    }\n",
       "\n",
       "    .dataframe tbody tr th {\n",
       "        vertical-align: top;\n",
       "    }\n",
       "\n",
       "    .dataframe thead th {\n",
       "        text-align: right;\n",
       "    }\n",
       "</style>\n",
       "<table border=\"1\" class=\"dataframe\">\n",
       "  <thead>\n",
       "    <tr style=\"text-align: right;\">\n",
       "      <th></th>\n",
       "      <th>Titre</th>\n",
       "      <th>Cours_Ouv</th>\n",
       "      <th>Cours_Clot</th>\n",
       "      <th>Variation</th>\n",
       "    </tr>\n",
       "    <tr>\n",
       "      <th>Date</th>\n",
       "      <th></th>\n",
       "      <th></th>\n",
       "      <th></th>\n",
       "      <th></th>\n",
       "    </tr>\n",
       "  </thead>\n",
       "  <tbody>\n",
       "    <tr>\n",
       "      <th>2016-08-09</th>\n",
       "      <td>FILTISAC CI</td>\n",
       "      <td>27400</td>\n",
       "      <td>27400</td>\n",
       "      <td>0.0</td>\n",
       "    </tr>\n",
       "    <tr>\n",
       "      <th>2016-08-09</th>\n",
       "      <td>NESTLE CI</td>\n",
       "      <td>61000</td>\n",
       "      <td>61000</td>\n",
       "      <td>0.0</td>\n",
       "    </tr>\n",
       "    <tr>\n",
       "      <th>2016-08-09</th>\n",
       "      <td>AIR LIQUIDE CI</td>\n",
       "      <td>19450</td>\n",
       "      <td>19450</td>\n",
       "      <td>0.0</td>\n",
       "    </tr>\n",
       "    <tr>\n",
       "      <th>2016-08-09</th>\n",
       "      <td>SMB CI</td>\n",
       "      <td>30005</td>\n",
       "      <td>30005</td>\n",
       "      <td>0.0</td>\n",
       "    </tr>\n",
       "    <tr>\n",
       "      <th>2016-08-09</th>\n",
       "      <td>SITAB CI</td>\n",
       "      <td>152005</td>\n",
       "      <td>152005</td>\n",
       "      <td>0.0</td>\n",
       "    </tr>\n",
       "  </tbody>\n",
       "</table>\n",
       "</div>"
      ],
      "text/plain": [
       "                     Titre  Cours_Ouv  Cours_Clot  Variation\n",
       "Date                                                        \n",
       "2016-08-09     FILTISAC CI      27400       27400        0.0\n",
       "2016-08-09       NESTLE CI      61000       61000        0.0\n",
       "2016-08-09  AIR LIQUIDE CI      19450       19450        0.0\n",
       "2016-08-09          SMB CI      30005       30005        0.0\n",
       "2016-08-09        SITAB CI     152005      152005        0.0"
      ]
     },
     "execution_count": 22,
     "metadata": {},
     "output_type": "execute_result"
    }
   ],
   "source": [
    "def modif(x):\n",
    "    return int(\"\".join(x.split(\" \")))\n",
    "\n",
    "data_analysis[\"Cours_Ouv\"] = data_analysis[\"Cours_Ouv\"].map(modif)\n",
    "data_analysis[\"Cours_Clot\"] = data_analysis[\"Cours_Clot\"].map(modif)\n",
    "data_analysis[\"Variation\"] = (data_analysis[\"Cours_Clot\"]-data_analysis[\"Cours_Ouv\"])/data_analysis[\"Cours_Ouv\"]\n",
    "\n",
    "data_analysis.head()"
   ]
  },
  {
   "cell_type": "code",
   "execution_count": 25,
   "metadata": {},
   "outputs": [
    {
     "name": "stdout",
     "output_type": "stream",
     "text": [
      "Nombre de titres:  45\n"
     ]
    }
   ],
   "source": [
    "## Nombre de titres\n",
    "print(\"Nombre de titres: \",len(list(set(data_analysis[\"Titre\"]))))"
   ]
  },
  {
   "cell_type": "markdown",
   "metadata": {},
   "source": [
    "## SERIES TEMPORAL PREDICTION ##"
   ]
  },
  {
   "cell_type": "code",
   "execution_count": 23,
   "metadata": {},
   "outputs": [],
   "source": [
    "import statsmodels.formula.api as smf            # statistics and econometrics\n",
    "import statsmodels.tsa.api as smt\n",
    "import statsmodels.api as sm\n",
    "import scipy.stats as scs\n",
    "\n",
    "from itertools import product                    # some useful functions\n",
    "from tqdm import tqdm_notebook\n",
    "\n",
    "%matplotlib inline"
   ]
  },
  {
   "cell_type": "code",
   "execution_count": 24,
   "metadata": {},
   "outputs": [
    {
     "data": {
      "image/png": "[encoded data removed]",
      "text/plain": [
       "<Figure size 1080x504 with 1 Axes>"
      ]
     },
     "metadata": {
      "needs_background": "light"
     },
     "output_type": "display_data"
    }
   ],
   "source": [
    "plt.figure(figsize=(15, 7))\n",
    "plt.plot(data_analysis[data_analysis[\"Titre\"]==\"FILTISAC CI\"][\"Variation\"])\n",
    "plt.title('Ads watched (hourly data)')\n",
    "plt.grid(True)\n",
    "plt.show()"
   ]
  },
  {
   "cell_type": "code",
   "execution_count": null,
   "metadata": {},
   "outputs": [],
   "source": [
    "ads = pd.read_csv('../input/ads.csv', index_col=['Time'], parse_dates=['Time'])"
   ]
  },
  {
   "cell_type": "code",
   "execution_count": null,
   "metadata": {},
   "outputs": [],
   "source": []
  },
  {
   "cell_type": "code",
   "execution_count": null,
   "metadata": {},
   "outputs": [],
   "source": []
  },
  {
   "cell_type": "code",
   "execution_count": null,
   "metadata": {},
   "outputs": [],
   "source": []
  },
  {
   "cell_type": "code",
   "execution_count": null,
   "metadata": {},
   "outputs": [],
   "source": []
  },
  {
   "cell_type": "code",
   "execution_count": null,
   "metadata": {},
   "outputs": [],
   "source": []
  },
  {
   "cell_type": "code",
   "execution_count": 5,
   "metadata": {},
   "outputs": [
    {
     "data": {
      "text/html": [
       "<div>\n",
       "<style scoped>\n",
       "    .dataframe tbody tr th:only-of-type {\n",
       "        vertical-align: middle;\n",
       "    }\n",
       "\n",
       "    .dataframe tbody tr th {\n",
       "        vertical-align: top;\n",
       "    }\n",
       "\n",
       "    .dataframe thead th {\n",
       "        text-align: right;\n",
       "    }\n",
       "</style>\n",
       "<table border=\"1\" class=\"dataframe\">\n",
       "  <thead>\n",
       "    <tr style=\"text-align: right;\">\n",
       "      <th></th>\n",
       "      <th>Date</th>\n",
       "      <th>Symbole</th>\n",
       "      <th>Titre</th>\n",
       "      <th>Cotation_Volume</th>\n",
       "      <th>Cotation_Valeur</th>\n",
       "      <th>Cours_Precedent</th>\n",
       "      <th>Cours_Ouv</th>\n",
       "      <th>Cours_Clot</th>\n",
       "      <th>Cours_Moy</th>\n",
       "      <th>Variation</th>\n",
       "      <th>Variation_Ann_Prec</th>\n",
       "      <th>Cours_Reference</th>\n",
       "      <th>Ecarts_Maximaux_Bas</th>\n",
       "      <th>Ecarts_Maximaux_Haut</th>\n",
       "      <th>Dernier_Dividende_Montant_Net</th>\n",
       "      <th>Dernier_Dividende_Date</th>\n",
       "      <th>Comp</th>\n",
       "      <th>Rdt_Net</th>\n",
       "      <th>PER</th>\n",
       "    </tr>\n",
       "  </thead>\n",
       "  <tbody>\n",
       "    <tr>\n",
       "      <th>0</th>\n",
       "      <td>2016-08-09</td>\n",
       "      <td>CABC</td>\n",
       "      <td>SICABLE CI</td>\n",
       "      <td>NaN</td>\n",
       "      <td>NaN</td>\n",
       "      <td>109 000</td>\n",
       "      <td>NC</td>\n",
       "      <td>NC</td>\n",
       "      <td>NC</td>\n",
       "      <td>NaN</td>\n",
       "      <td>-11,74%</td>\n",
       "      <td>109 000</td>\n",
       "      <td>100 825</td>\n",
       "      <td>117 175</td>\n",
       "      <td>1 200,00</td>\n",
       "      <td>28/07/2016</td>\n",
       "      <td>1er</td>\n",
       "      <td>1,10%</td>\n",
       "      <td>23,01</td>\n",
       "    </tr>\n",
       "    <tr>\n",
       "      <th>1</th>\n",
       "      <td>2016-08-09</td>\n",
       "      <td>FTSC</td>\n",
       "      <td>FILTISAC CI</td>\n",
       "      <td>12</td>\n",
       "      <td>328 800</td>\n",
       "      <td>29 500</td>\n",
       "      <td>27 400</td>\n",
       "      <td>27 400</td>\n",
       "      <td>27 400</td>\n",
       "      <td>-7,12%</td>\n",
       "      <td>-8,65%</td>\n",
       "      <td>27 400</td>\n",
       "      <td>25 345</td>\n",
       "      <td>29 455</td>\n",
       "      <td>1 045,00</td>\n",
       "      <td>30/06/2016</td>\n",
       "      <td>1er</td>\n",
       "      <td>3,81%</td>\n",
       "      <td>24,59</td>\n",
       "    </tr>\n",
       "    <tr>\n",
       "      <th>2</th>\n",
       "      <td>2016-08-09</td>\n",
       "      <td>NEIC</td>\n",
       "      <td>NEI-CEDA CI</td>\n",
       "      <td>NaN</td>\n",
       "      <td>NaN</td>\n",
       "      <td>3 455</td>\n",
       "      <td>NC</td>\n",
       "      <td>NC</td>\n",
       "      <td>NC</td>\n",
       "      <td>NaN</td>\n",
       "      <td>-17,74%</td>\n",
       "      <td>3 455</td>\n",
       "      <td>3 200</td>\n",
       "      <td>3 710</td>\n",
       "      <td>9,00</td>\n",
       "      <td>12/08/2011</td>\n",
       "      <td>1er</td>\n",
       "      <td>0,00%</td>\n",
       "      <td>0,00</td>\n",
       "    </tr>\n",
       "    <tr>\n",
       "      <th>3</th>\n",
       "      <td>2016-08-09</td>\n",
       "      <td>NTLC</td>\n",
       "      <td>NESTLE CI</td>\n",
       "      <td>10</td>\n",
       "      <td>610 000</td>\n",
       "      <td>61 000</td>\n",
       "      <td>61 000</td>\n",
       "      <td>61 000</td>\n",
       "      <td>61 000</td>\n",
       "      <td>0,00%</td>\n",
       "      <td>22,00%</td>\n",
       "      <td>61 000</td>\n",
       "      <td>56 425</td>\n",
       "      <td>65 575</td>\n",
       "      <td>31,50</td>\n",
       "      <td>29/09/2011</td>\n",
       "      <td>2eme</td>\n",
       "      <td>0,00%</td>\n",
       "      <td>21,47</td>\n",
       "    </tr>\n",
       "    <tr>\n",
       "      <th>4</th>\n",
       "      <td>2016-08-09</td>\n",
       "      <td>SEMC</td>\n",
       "      <td>CROWN SIEM CI</td>\n",
       "      <td>NaN</td>\n",
       "      <td>NaN</td>\n",
       "      <td>51 000</td>\n",
       "      <td>NC</td>\n",
       "      <td>NC</td>\n",
       "      <td>NC</td>\n",
       "      <td>NaN</td>\n",
       "      <td>13,35%</td>\n",
       "      <td>51 000</td>\n",
       "      <td>47 175</td>\n",
       "      <td>54 825</td>\n",
       "      <td>1 215,00</td>\n",
       "      <td>28/08/2015</td>\n",
       "      <td>2eme</td>\n",
       "      <td>-</td>\n",
       "      <td>40,94</td>\n",
       "    </tr>\n",
       "  </tbody>\n",
       "</table>\n",
       "</div>"
      ],
      "text/plain": [
       "         Date Symbole          Titre Cotation_Volume Cotation_Valeur  \\\n",
       "0  2016-08-09    CABC     SICABLE CI             NaN             NaN   \n",
       "1  2016-08-09    FTSC    FILTISAC CI              12         328 800   \n",
       "2  2016-08-09    NEIC    NEI-CEDA CI             NaN             NaN   \n",
       "3  2016-08-09    NTLC      NESTLE CI              10         610 000   \n",
       "4  2016-08-09    SEMC  CROWN SIEM CI             NaN             NaN   \n",
       "\n",
       "  Cours_Precedent Cours_Ouv Cours_Clot Cours_Moy Variation Variation_Ann_Prec  \\\n",
       "0         109 000        NC         NC        NC       NaN            -11,74%   \n",
       "1          29 500    27 400     27 400    27 400    -7,12%             -8,65%   \n",
       "2           3 455        NC         NC        NC       NaN            -17,74%   \n",
       "3          61 000    61 000     61 000    61 000     0,00%             22,00%   \n",
       "4          51 000        NC         NC        NC       NaN             13,35%   \n",
       "\n",
       "  Cours_Reference Ecarts_Maximaux_Bas Ecarts_Maximaux_Haut  \\\n",
       "0         109 000             100 825              117 175   \n",
       "1          27 400              25 345               29 455   \n",
       "2           3 455               3 200                3 710   \n",
       "3          61 000              56 425               65 575   \n",
       "4          51 000              47 175               54 825   \n",
       "\n",
       "  Dernier_Dividende_Montant_Net Dernier_Dividende_Date  Comp Rdt_Net    PER  \n",
       "0                      1 200,00             28/07/2016   1er   1,10%  23,01  \n",
       "1                      1 045,00             30/06/2016   1er   3,81%  24,59  \n",
       "2                          9,00             12/08/2011   1er   0,00%   0,00  \n",
       "3                         31,50             29/09/2011  2eme   0,00%  21,47  \n",
       "4                      1 215,00             28/08/2015  2eme       -  40,94  "
      ]
     },
     "execution_count": 5,
     "metadata": {},
     "output_type": "execute_result"
    }
   ],
   "source": [
    "#data = pd.read_csv(\"/Users/ladpice/Desktop/SENIOR_DATASCIENTIST/Financial-Stock-Prediction/data/StockData_part1.csv\")\n",
    "data = pd.read_csv(\"../data/StockData_part1.csv\")\n",
    "data.head(5)"
   ]
  },
  {
   "cell_type": "code",
   "execution_count": 6,
   "metadata": {},
   "outputs": [
    {
     "name": "stdout",
     "output_type": "stream",
     "text": [
      "Number of product stocks:  39\n"
     ]
    }
   ],
   "source": [
    "data_analysis = data[[\"Date\",\"Symbole\",\"Titre\",\"Cours_Ouv\",\"Cours_Clot\"]]\n",
    "print(\"Number of product stocks: \",len(set(data_analysis[\"Titre\"])))"
   ]
  },
  {
   "cell_type": "code",
   "execution_count": null,
   "metadata": {},
   "outputs": [],
   "source": [
    "def plot_series(dataframe: pd.DataFrame, col_name: str = None, title: str = \"\") -> None:\n",
    "    \"\"\"To make it uniform in all the analysis.\"\"\"\n",
    "    fig, ax = plt.subplots(figsize = (12, 8))\n",
    "    ax.set_title(title)\n",
    "    plt.ylabel(\"# of Deaths\", fontsize=16)\n",
    "    if col_name is not None:\n",
    "        len_col = len(dataframe[col_name])\n",
    "        series = dataframe[col_name]\n",
    "    else:\n",
    "        len_col = len(dataframe)\n",
    "        series = deepcopy(dataframe)\n",
    "    series.plot(linewidth=1.5, color=\"#FF6F26\")\n",
    "    plt.xlabel(\"\", fontsize=18)\n",
    "    plt.fill_between(series.index,\n",
    "                     series.values,\n",
    "                     0,\n",
    "                     color=\"#FF6F26\",\n",
    "                     alpha=0.35)"
   ]
  }
 ],
 "metadata": {
  "kernelspec": {
   "display_name": "Python 3",
   "language": "python",
   "name": "python3"
  },
  "language_info": {
   "codemirror_mode": {
    "name": "ipython",
    "version": 3
   },
   "file_extension": ".py",
   "mimetype": "text/x-python",
   "name": "python",
   "nbconvert_exporter": "python",
   "pygments_lexer": "ipython3",
   "version": "3.7.6"
  }
 },
 "nbformat": 4,
 "nbformat_minor": 4
}
